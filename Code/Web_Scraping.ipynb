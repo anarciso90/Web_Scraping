{
 "cells": [
  {
   "cell_type": "markdown",
   "metadata": {},
   "source": [
    "# Git Branch and Folder Structure"
   ]
  },
  {
   "cell_type": "code",
   "execution_count": 1,
   "metadata": {},
   "outputs": [
    {
     "data": {
      "text/html": [
       "\n",
       "<style>\n",
       "    div#notebook-container    { width: 95%; }\n",
       "    div#menubar-container     { width: 65%; }\n",
       "    div#maintoolbar-container { width: 99%; }a\n",
       "</style>\n"
      ],
      "text/plain": [
       "<IPython.core.display.HTML object>"
      ]
     },
     "metadata": {},
     "output_type": "display_data"
    }
   ],
   "source": [
    "from IPython.display import display, HTML\n",
    "\n",
    "display(HTML(data=\"\"\"\n",
    "<style>\n",
    "    div#notebook-container    { width: 95%; }\n",
    "    div#menubar-container     { width: 65%; }\n",
    "    div#maintoolbar-container { width: 99%; }a\n",
    "</style>\n",
    "\"\"\"))"
   ]
  },
  {
   "cell_type": "code",
   "execution_count": 3,
   "metadata": {},
   "outputs": [
    {
     "name": "stdout",
     "output_type": "stream",
     "text": [
      "Jupyter detected...\n",
      "3 channel Terms of Service accepted\n",
      "Channels:\n",
      " - conda-forge\n",
      " - defaults\n",
      "Platform: win-64\n",
      "Collecting package metadata (repodata.json): done\n",
      "Solving environment: done\n",
      "\n",
      "# All requested packages already installed.\n",
      "\n",
      "\n",
      "Note: you may need to restart the kernel to use updated packages.\n"
     ]
    },
    {
     "name": "stderr",
     "output_type": "stream",
     "text": [
      "\n",
      "\n",
      "==> WARNING: A newer version of conda exists. <==\n",
      "    current version: 25.5.1\n",
      "    latest version: 25.7.0\n",
      "\n",
      "Please update conda by running\n",
      "\n",
      "    $ conda update -n base -c defaults conda\n",
      "\n",
      "\n"
     ]
    }
   ],
   "source": [
    "conda install -c conda-forge selenium"
   ]
  },
  {
   "cell_type": "code",
   "execution_count": 4,
   "metadata": {},
   "outputs": [
    {
     "name": "stdout",
     "output_type": "stream",
     "text": [
      "Requirement already satisfied: selenium in c:\\users\\richa\\anaconda3\\envs\\web_scrap\\lib\\site-packages (4.23.1)\n",
      "Requirement already satisfied: urllib3<3,>=1.26 in c:\\users\\richa\\anaconda3\\envs\\web_scrap\\lib\\site-packages (from urllib3[socks]<3,>=1.26->selenium) (2.5.0)\n",
      "Requirement already satisfied: trio~=0.17 in c:\\users\\richa\\anaconda3\\envs\\web_scrap\\lib\\site-packages (from selenium) (0.31.0)\n",
      "Requirement already satisfied: trio-websocket~=0.9 in c:\\users\\richa\\anaconda3\\envs\\web_scrap\\lib\\site-packages (from selenium) (0.12.2)\n",
      "Requirement already satisfied: certifi>=2021.10.8 in c:\\users\\richa\\anaconda3\\envs\\web_scrap\\lib\\site-packages (from selenium) (2025.8.3)\n",
      "Requirement already satisfied: typing_extensions~=4.9 in c:\\users\\richa\\anaconda3\\envs\\web_scrap\\lib\\site-packages (from selenium) (4.15.0)\n",
      "Requirement already satisfied: websocket-client~=1.8 in c:\\users\\richa\\anaconda3\\envs\\web_scrap\\lib\\site-packages (from selenium) (1.8.0)\n",
      "Requirement already satisfied: attrs>=23.2.0 in c:\\users\\richa\\anaconda3\\envs\\web_scrap\\lib\\site-packages (from trio~=0.17->selenium) (25.3.0)\n",
      "Requirement already satisfied: sortedcontainers in c:\\users\\richa\\anaconda3\\envs\\web_scrap\\lib\\site-packages (from trio~=0.17->selenium) (2.4.0)\n",
      "Requirement already satisfied: idna in c:\\users\\richa\\anaconda3\\envs\\web_scrap\\lib\\site-packages (from trio~=0.17->selenium) (3.10)\n",
      "Requirement already satisfied: outcome in c:\\users\\richa\\anaconda3\\envs\\web_scrap\\lib\\site-packages (from trio~=0.17->selenium) (1.3.0.post0)\n",
      "Requirement already satisfied: sniffio>=1.3.0 in c:\\users\\richa\\anaconda3\\envs\\web_scrap\\lib\\site-packages (from trio~=0.17->selenium) (1.3.1)\n",
      "Requirement already satisfied: cffi>=1.14 in c:\\users\\richa\\anaconda3\\envs\\web_scrap\\lib\\site-packages (from trio~=0.17->selenium) (1.17.1)\n",
      "Requirement already satisfied: wsproto>=0.14 in c:\\users\\richa\\anaconda3\\envs\\web_scrap\\lib\\site-packages (from trio-websocket~=0.9->selenium) (1.2.0)\n",
      "Requirement already satisfied: pysocks!=1.5.7,<2.0,>=1.5.6 in c:\\users\\richa\\anaconda3\\envs\\web_scrap\\lib\\site-packages (from urllib3[socks]<3,>=1.26->selenium) (1.7.1)\n",
      "Requirement already satisfied: pycparser in c:\\users\\richa\\anaconda3\\envs\\web_scrap\\lib\\site-packages (from cffi>=1.14->trio~=0.17->selenium) (2.22)\n",
      "Requirement already satisfied: h11<1,>=0.9.0 in c:\\users\\richa\\anaconda3\\envs\\web_scrap\\lib\\site-packages (from wsproto>=0.14->trio-websocket~=0.9->selenium) (0.16.0)\n",
      "Note: you may need to restart the kernel to use updated packages.\n"
     ]
    }
   ],
   "source": [
    "pip install selenium"
   ]
  },
  {
   "cell_type": "code",
   "execution_count": 5,
   "metadata": {
    "scrolled": true
   },
   "outputs": [],
   "source": [
    "# this library is to manipulate browser\n",
    "from selenium import webdriver\n",
    "\n",
    "# it allows you to work with differen versions of drivers\n",
    "# We call ChromeDriver\n",
    "# from webdriver_manager.chrome import ChromeDriverManager\n",
    "import re\n",
    "import time \n",
    "from selenium.webdriver.common.by import By"
   ]
  },
  {
   "cell_type": "markdown",
   "metadata": {},
   "source": [
    "# Exercise 2"
   ]
  },
  {
   "cell_type": "code",
   "execution_count": 7,
   "metadata": {},
   "outputs": [],
   "source": [
    "#2. Task Description\n",
    "#Scrape all Data Science job offers from the Bumeran platform that match the following filters (using code not by hand!):\n",
    "\n",
    "from selenium import webdriver\n",
    "from selenium.webdriver.common.by import By\n",
    "from selenium.webdriver.support.ui import WebDriverWait\n",
    "from selenium.webdriver.support import expected_conditions as EC\n",
    "import time"
   ]
  },
  {
   "cell_type": "code",
   "execution_count": 14,
   "metadata": {},
   "outputs": [],
   "source": [
    "# driver = webdriver.Chrome( ChromeDriverManager().install() )\n",
    "# Maximize window\n",
    "driver = webdriver.Chrome()\n",
    "driver.maximize_window()\n",
    "driver.get(\"https://www.bumeran.com.pe/empleos-seniority-junior.html?landing-jovenes-profesionales=true\")\n",
    "\n",
    "wait = WebDriverWait(driver, 10)\n",
    "\n",
    "# Click en \"Fecha de publicación\"\n",
    "fecha_btn = wait.until(EC.element_to_be_clickable((By.XPATH, \"//button[contains(., 'Fecha de publicación')]\")))\n",
    "fecha_btn.click()\n",
    "\n",
    "# Click en \"Menor a 15 días\" - Texto exacto\n",
    "opcion = wait.until(EC.element_to_be_clickable((By.XPATH, \"//*[text()='Menor a 15 días']\")))\n",
    "opcion.click()\n",
    "\n",
    "# Click en \"Área\" (esto abre el buscador)\n",
    "area_btn = wait.until(EC.element_to_be_clickable((By.XPATH, \"//button[contains(., 'Área')]\")))\n",
    "area_btn.click()\n",
    "opcion = wait.until(EC.element_to_be_clickable((By.XPATH, \"//*[text()='Tecnología, Sistemas y Telecomunicaciones']\")))\n",
    "opcion.click()\n",
    "\n",
    "# Click en \"Subárea\"\n",
    "subarea_btn = wait.until(EC.element_to_be_clickable((By.XPATH, \"//button[contains(., 'Subárea')]\")))\n",
    "subarea_btn.click()\n",
    "\n",
    "# Click en \"Programación\"\n",
    "programacion_option = wait.until(EC.element_to_be_clickable((By.XPATH, \"//*[text()='Programación']\")))\n",
    "programacion_option.click()\n",
    "\n",
    "# Escribir \"Departamento\"\n",
    "depto_input = wait.until(EC.element_to_be_clickable((By.XPATH, \"//button[contains(., 'Departamento')]\")))\n",
    "depto_input.click()\n",
    "opcion = wait.until(EC.element_to_be_clickable((By.XPATH, \"//*[text()='Lima']\")))\n",
    "opcion.click()"
   ]
  },
  {
   "cell_type": "code",
   "execution_count": 15,
   "metadata": {},
   "outputs": [
    {
     "name": "stdout",
     "output_type": "stream",
     "text": [
      "Se encontraron 16 ofertas\n"
     ]
    }
   ],
   "source": [
    "\n",
    "wait = WebDriverWait(driver, 15)\n",
    "\n",
    "# --- SCRAPEO ---\n",
    "with open(\"bumeran_jobs.csv\", \"w\", newline=\"\", encoding=\"utf-8-sig\") as f:\n",
    "    writer = csv.writer(f)\n",
    "    writer.writerow([\"Título\", \"Empresa\", \"Ubicación\", \"Fecha\", \"Link\"])  # encabezados\n",
    "    \n",
    "    # Espera a que aparezcan las ofertas\n",
    "    ofertas = wait.until(\n",
    "        EC.presence_of_all_elements_located((By.XPATH, \"//a[.//h2]\"))\n",
    "    )\n",
    "    print(f\"Se encontraron {len(ofertas)} ofertas\")\n",
    "\n",
    "    for oferta in ofertas:\n",
    "        try:\n",
    "            titulo = oferta.find_element(By.TAG_NAME, \"h2\").text\n",
    "        except:\n",
    "            titulo = \"\"\n",
    "\n",
    "        try:\n",
    "            empresa = oferta.find_element(By.TAG_NAME, \"h3\").text\n",
    "        except:\n",
    "            empresa = \"\"\n",
    "\n",
    "        try:\n",
    "            ubicacion = oferta.find_elements(By.XPATH, \".//span[contains(@class,'sc')]\")\n",
    "            ubicacion = ubicacion[0].text if ubicacion else \"\"\n",
    "        except:\n",
    "            ubicacion = \"\"\n",
    "\n",
    "        try:\n",
    "            fecha = oferta.find_elements(By.XPATH, \".//span[contains(@class,'sc')]\")\n",
    "            fecha = fecha[-1].text if fecha else \"\"\n",
    "        except:\n",
    "            fecha = \"\"\n",
    "\n",
    "        link = oferta.get_attribute(\"href\") or \"\"\n",
    "\n",
    "        writer.writerow([titulo, empresa, ubicacion, fecha, link])\n",
    "\n",
    "driver.quit()"
   ]
  }
 ],
 "metadata": {
  "hide_input": false,
  "kernelspec": {
   "display_name": "Python [conda env:web_scrap]",
   "language": "python",
   "name": "conda-env-web_scrap-py"
  },
  "language_info": {
   "codemirror_mode": {
    "name": "ipython",
    "version": 3
   },
   "file_extension": ".py",
   "mimetype": "text/x-python",
   "name": "python",
   "nbconvert_exporter": "python",
   "pygments_lexer": "ipython3",
   "version": "3.11.13"
  },
  "toc": {
   "base_numbering": 1,
   "nav_menu": {},
   "number_sections": true,
   "sideBar": true,
   "skip_h1_title": false,
   "title_cell": "Table of Contents",
   "title_sidebar": "Contents",
   "toc_cell": false,
   "toc_position": {},
   "toc_section_display": true,
   "toc_window_display": false
  }
 },
 "nbformat": 4,
 "nbformat_minor": 4
}
