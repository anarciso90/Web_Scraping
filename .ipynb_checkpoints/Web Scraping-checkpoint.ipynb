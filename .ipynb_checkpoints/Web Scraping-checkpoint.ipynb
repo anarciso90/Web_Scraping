{
 "cells": [
  {
   "cell_type": "markdown",
   "id": "5d445d27",
   "metadata": {},
   "source": [
    "### Web Scraping de ofertas de Programación en Bumeran\n",
    "\n",
    "Este notebook implementa un scraping de ofertas de trabajo en Bumeran, aplicando filtros específicos:  \n",
    "- Fecha de publicación: menor a 15 días  \n",
    "- Área: Tecnología, sistemas y telecomunicación  \n",
    "- Subárea: Programación  \n",
    "- Carga horaria: Full-Time  \n",
    "- Departamento: Lima  \n"
   ]
  },
  {
   "cell_type": "code",
   "execution_count": 1,
   "id": "fd1d70df",
   "metadata": {},
   "outputs": [
    {
     "name": "stdout",
     "output_type": "stream",
     "text": [
      "Requirement already satisfied: selenium in c:\\users\\asus\\anaconda3\\lib\\site-packages (4.35.0)\n",
      "Requirement already satisfied: beautifulsoup4 in c:\\users\\asus\\anaconda3\\lib\\site-packages (4.12.2)\n",
      "Requirement already satisfied: pandas in c:\\users\\asus\\anaconda3\\lib\\site-packages (2.0.3)\n",
      "Requirement already satisfied: urllib3[socks]<3.0,>=2.5.0 in c:\\users\\asus\\anaconda3\\lib\\site-packages (from selenium) (2.5.0)\n",
      "Requirement already satisfied: trio~=0.30.0 in c:\\users\\asus\\anaconda3\\lib\\site-packages (from selenium) (0.30.0)\n",
      "Requirement already satisfied: trio-websocket~=0.12.2 in c:\\users\\asus\\anaconda3\\lib\\site-packages (from selenium) (0.12.2)\n",
      "Requirement already satisfied: certifi>=2025.6.15 in c:\\users\\asus\\anaconda3\\lib\\site-packages (from selenium) (2025.8.3)\n",
      "Requirement already satisfied: typing_extensions~=4.14.0 in c:\\users\\asus\\anaconda3\\lib\\site-packages (from selenium) (4.14.1)\n",
      "Requirement already satisfied: websocket-client~=1.8.0 in c:\\users\\asus\\anaconda3\\lib\\site-packages (from selenium) (1.8.0)\n",
      "Requirement already satisfied: soupsieve>1.2 in c:\\users\\asus\\anaconda3\\lib\\site-packages (from beautifulsoup4) (2.4)\n",
      "Requirement already satisfied: python-dateutil>=2.8.2 in c:\\users\\asus\\anaconda3\\lib\\site-packages (from pandas) (2.8.2)\n",
      "Requirement already satisfied: pytz>=2020.1 in c:\\users\\asus\\anaconda3\\lib\\site-packages (from pandas) (2023.3.post1)\n",
      "Requirement already satisfied: tzdata>=2022.1 in c:\\users\\asus\\anaconda3\\lib\\site-packages (from pandas) (2023.3)\n",
      "Requirement already satisfied: numpy>=1.21.0 in c:\\users\\asus\\anaconda3\\lib\\site-packages (from pandas) (1.24.3)\n",
      "Requirement already satisfied: six>=1.5 in c:\\users\\asus\\anaconda3\\lib\\site-packages (from python-dateutil>=2.8.2->pandas) (1.16.0)\n",
      "Requirement already satisfied: attrs>=23.2.0 in c:\\users\\asus\\anaconda3\\lib\\site-packages (from trio~=0.30.0->selenium) (25.3.0)\n",
      "Requirement already satisfied: sortedcontainers in c:\\users\\asus\\anaconda3\\lib\\site-packages (from trio~=0.30.0->selenium) (2.4.0)\n",
      "Requirement already satisfied: idna in c:\\users\\asus\\anaconda3\\lib\\site-packages (from trio~=0.30.0->selenium) (3.4)\n",
      "Requirement already satisfied: outcome in c:\\users\\asus\\anaconda3\\lib\\site-packages (from trio~=0.30.0->selenium) (1.3.0.post0)\n",
      "Requirement already satisfied: sniffio>=1.3.0 in c:\\users\\asus\\anaconda3\\lib\\site-packages (from trio~=0.30.0->selenium) (1.3.1)\n",
      "Requirement already satisfied: cffi>=1.14 in c:\\users\\asus\\anaconda3\\lib\\site-packages (from trio~=0.30.0->selenium) (1.15.1)\n",
      "Requirement already satisfied: wsproto>=0.14 in c:\\users\\asus\\anaconda3\\lib\\site-packages (from trio-websocket~=0.12.2->selenium) (1.2.0)\n",
      "Requirement already satisfied: pysocks!=1.5.7,<2.0,>=1.5.6 in c:\\users\\asus\\anaconda3\\lib\\site-packages (from urllib3[socks]<3.0,>=2.5.0->selenium) (1.7.1)\n",
      "Requirement already satisfied: pycparser in c:\\users\\asus\\anaconda3\\lib\\site-packages (from cffi>=1.14->trio~=0.30.0->selenium) (2.21)\n",
      "Requirement already satisfied: h11<1,>=0.9.0 in c:\\users\\asus\\anaconda3\\lib\\site-packages (from wsproto>=0.14->trio-websocket~=0.12.2->selenium) (0.16.0)\n"
     ]
    }
   ],
   "source": [
    "#Paso 1: instalamos librerías requeridas\n",
    "!pip install selenium beautifulsoup4 pandas"
   ]
  },
  {
   "cell_type": "code",
   "execution_count": 2,
   "id": "b26e0c49",
   "metadata": {},
   "outputs": [
    {
     "name": "stdout",
     "output_type": "stream",
     "text": [
      "Collecting webdriver-manager\n",
      "  Obtaining dependency information for webdriver-manager from https://files.pythonhosted.org/packages/b5/b5/3bd0b038d80950ec13e6a2c8d03ed8354867dc60064b172f2f4ffac8afbe/webdriver_manager-4.0.2-py2.py3-none-any.whl.metadata\n",
      "  Downloading webdriver_manager-4.0.2-py2.py3-none-any.whl.metadata (12 kB)\n",
      "Requirement already satisfied: requests in c:\\users\\asus\\anaconda3\\lib\\site-packages (from webdriver-manager) (2.31.0)\n",
      "Requirement already satisfied: python-dotenv in c:\\users\\asus\\anaconda3\\lib\\site-packages (from webdriver-manager) (0.21.0)\n",
      "Requirement already satisfied: packaging in c:\\users\\asus\\anaconda3\\lib\\site-packages (from webdriver-manager) (23.1)\n",
      "Requirement already satisfied: charset-normalizer<4,>=2 in c:\\users\\asus\\anaconda3\\lib\\site-packages (from requests->webdriver-manager) (2.0.4)\n",
      "Requirement already satisfied: idna<4,>=2.5 in c:\\users\\asus\\anaconda3\\lib\\site-packages (from requests->webdriver-manager) (3.4)\n",
      "Requirement already satisfied: urllib3<3,>=1.21.1 in c:\\users\\asus\\anaconda3\\lib\\site-packages (from requests->webdriver-manager) (2.5.0)\n",
      "Requirement already satisfied: certifi>=2017.4.17 in c:\\users\\asus\\anaconda3\\lib\\site-packages (from requests->webdriver-manager) (2025.8.3)\n",
      "Downloading webdriver_manager-4.0.2-py2.py3-none-any.whl (27 kB)\n",
      "Installing collected packages: webdriver-manager\n",
      "Successfully installed webdriver-manager-4.0.2\n"
     ]
    }
   ],
   "source": [
    "!pip install webdriver-manager"
   ]
  },
  {
   "cell_type": "code",
   "execution_count": 37,
   "id": "1dbea01d",
   "metadata": {},
   "outputs": [],
   "source": [
    "#Paso 2: importamos las librerías\n",
    "\n",
    "from selenium import webdriver\n",
    "from selenium.webdriver.chrome.service import Service\n",
    "from webdriver_manager.chrome import ChromeDriverManager\n",
    "from bs4 import BeautifulSoup\n",
    "import pandas as pd\n",
    "import time\n",
    "import re"
   ]
  },
  {
   "cell_type": "code",
   "execution_count": 47,
   "id": "60f6d2e4",
   "metadata": {},
   "outputs": [],
   "source": [
    "# Configurar el driver (ANTIGUO)\n",
    "options = webdriver.ChromeOptions()\n",
    "options.add_argument(\"--headless\")  # para no abrir ventana (opcional)\n",
    "options.add_argument(\"--no-sandbox\")\n",
    "options.add_argument(\"--disable-dev-shm-usage\")\n",
    "\n",
    "driver = webdriver.Chrome(service=Service(ChromeDriverManager().install()), options=options)"
   ]
  },
  {
   "cell_type": "code",
   "execution_count": 52,
   "id": "d827f401",
   "metadata": {},
   "outputs": [
    {
     "name": "stdout",
     "output_type": "stream",
     "text": [
      "🥷 Configurando driver con técnicas anti-detección...\n",
      "✅ Driver stealth configurado correctamente\n"
     ]
    }
   ],
   "source": [
    "# Configurar el driver (NUEVO)\n",
    "def setup_stealth_driver():\n",
    "    \"\"\"Configurar el driver con técnicas anti-detección\"\"\"\n",
    "    options = webdriver.ChromeOptions()\n",
    "    # ⚠️ IMPORTANTE: Comentar --headless para evitar detección\n",
    "    # options.add_argument(\"--headless\")\n",
    "    \n",
    "    # User agent real\n",
    "    options.add_argument(\"--user-agent=Mozilla/5.0 (Windows NT 10.0; Win64; x64) AppleWebKit/537.36 (KHTML, like Gecko) Chrome/120.0.0.0 Safari/537.36\")\n",
    "    \n",
    "    # Configuraciones anti-detección\n",
    "    options.add_argument(\"--no-sandbox\")\n",
    "    options.add_argument(\"--disable-dev-shm-usage\")\n",
    "    options.add_argument(\"--disable-blink-features=AutomationControlled\")\n",
    "    options.add_argument(\"--disable-extensions\")\n",
    "    options.add_argument(\"--disable-plugins\")\n",
    "    \n",
    "    driver = webdriver.Chrome(service=Service(ChromeDriverManager().install()), options=options)\n",
    "\n",
    "    # Ejecutar scripts anti-detección\n",
    "    driver.execute_script(\"Object.defineProperty(navigator, 'webdriver', {get: () => undefined})\")\n",
    "    driver.execute_script(\"Object.defineProperty(navigator, 'plugins', {get: () => [1, 2, 3, 4, 5]})\")\n",
    "    driver.execute_script(\"Object.defineProperty(navigator, 'languages', {get: () => ['es-ES', 'es']})\")\n",
    "    driver.execute_script(\"window.chrome = {runtime: {}}\")\n",
    "    \n",
    "    return driver\n",
    "\n",
    "# Configurar driver con técnicas stealth\n",
    "print(\"🥷 Configurando driver con técnicas anti-detección...\")\n",
    "driver = setup_stealth_driver()\n",
    "print(\"✅ Driver stealth configurado correctamente\")"
   ]
  },
  {
   "cell_type": "code",
   "execution_count": 48,
   "id": "019c6540",
   "metadata": {},
   "outputs": [
    {
     "name": "stdout",
     "output_type": "stream",
     "text": [
      "URL generada con filtros: https://www.bumeran.com.pe/en-lima/empleos-area-tecnologia-sistemas-y-telecomunicaciones-subarea-programacion-full-time-publicacion-menor-a-15-dias.html\n"
     ]
    }
   ],
   "source": [
    "#Paso 3: Definir filtros y construir URL\n",
    "# Filtros configurables\n",
    "departamento = \"lima\"\n",
    "area = \"tecnologia-sistemas-y-telecomunicaciones\"\n",
    "subarea = \"programacion\"\n",
    "carga = \"full-time\"\n",
    "fecha = \"menor-a-15-dias\"\n",
    "\n",
    "# Construcción dinámica del URL\n",
    "base_url = (\n",
    "    f\"https://www.bumeran.com.pe/en-{departamento}/\"\n",
    "    f\"empleos-area-{area}-subarea-{subarea}-{carga}-publicacion-{fecha}.html\"\n",
    ")\n",
    "\n",
    "print(\"URL generada con filtros:\", base_url)"
   ]
  },
  {
   "cell_type": "code",
   "execution_count": 53,
   "id": "6c25d012",
   "metadata": {},
   "outputs": [
    {
     "name": "stdout",
     "output_type": "stream",
     "text": [
      "['2', '3', '4', '5', '6', '']\n"
     ]
    }
   ],
   "source": [
    "#Detectar número de páginas con Selenium\n",
    "\n",
    "driver = webdriver.Chrome()\n",
    "driver.get(base_url)\n",
    "time.sleep(3)  # esperar a que cargue JS\n",
    "\n",
    "html = driver.page_source\n",
    "soup = BeautifulSoup(html, \"html.parser\")\n",
    "\n",
    "# Ahora sí debería encontrar todas las páginas\n",
    "pages = [a.text for a in soup.select(\"a[href*='?page=']\")]\n",
    "print(pages)"
   ]
  },
  {
   "cell_type": "code",
   "execution_count": 54,
   "id": "98b6fb3a",
   "metadata": {},
   "outputs": [
    {
     "name": "stdout",
     "output_type": "stream",
     "text": [
      "Se detectaron 6 páginas de resultados.\n"
     ]
    }
   ],
   "source": [
    "# Obtener la última página\n",
    "max_page = max(pages) if pages else 1\n",
    "print(f\"Se detectaron {max_page} páginas de resultados.\")"
   ]
  },
  {
   "cell_type": "code",
   "execution_count": 55,
   "id": "bd614c74",
   "metadata": {},
   "outputs": [
    {
     "name": "stdout",
     "output_type": "stream",
     "text": [
      "Scraping página 1/6...\n",
      "Scraping página 2/6...\n",
      "Scraping página 3/6...\n",
      "Scraping página 4/6...\n",
      "Scraping página 5/6...\n",
      "Scraping página 6/6...\n",
      "Total de ofertas recolectadas: 105\n"
     ]
    }
   ],
   "source": [
    "#Recolectar links de ofertas\n",
    "\n",
    "job_links = set()\n",
    "\n",
    "for page in range(1, int(max_page) + 1):\n",
    "    #Construir la URL según la página\n",
    "    url = base_url if page == 1 else f\"{base_url}?page={page}\"\n",
    "    print(f\"Scraping página {page}/{max_page}...\")\n",
    "\n",
    "    driver.get(url)\n",
    "    time.sleep(8)  # espera a que cargue la página\n",
    "\n",
    "    soup = BeautifulSoup(driver.page_source, \"html.parser\")\n",
    "\n",
    "    # Buscar todos los links de ofertas\n",
    "    for a in soup.select(\"a[href*='/empleos/']\"):\n",
    "        link = a[\"href\"]\n",
    "        if link.startswith(\"/\"):\n",
    "            link = \"https://www.bumeran.com.pe\" + link\n",
    "        job_links.add(link)\n",
    "\n",
    "print(f\"Total de ofertas recolectadas: {len(job_links)}\")"
   ]
  },
  {
   "cell_type": "code",
   "execution_count": 56,
   "id": "b9b4ce48",
   "metadata": {},
   "outputs": [],
   "source": [
    "import random\n",
    "\n",
    "def extract_job_details_stealth(driver, job_url):\n",
    "    \"\"\"Extraer detalles con técnicas anti-detección\"\"\"\n",
    "    try:\n",
    "        # Pausa aleatoria entre 3-8 segundos para simular comportamiento humano\n",
    "        wait_time = random.uniform(3, 8)\n",
    "        print(f\"   ⏳ Esperando {wait_time:.1f}s antes de acceder...\")\n",
    "        time.sleep(wait_time)\n",
    "        \n",
    "        # Navegar a la página\n",
    "        driver.get(job_url)\n",
    "        \n",
    "        # Esperar más tiempo para que cargue completamente\n",
    "        time.sleep(random.uniform(5, 10))\n",
    "        \n",
    "        # Verificar si fuimos bloqueados\n",
    "        page_source = driver.page_source\n",
    "        if \"blocked\" in page_source.lower() or \"captcha\" in page_source.lower():\n",
    "            print(\"   🚨 ¡Detectado bloqueo! Esperando más tiempo...\")\n",
    "            time.sleep(random.uniform(15, 25))\n",
    "            driver.refresh()\n",
    "            time.sleep(10)\n",
    "            page_source = driver.page_source\n",
    "        \n",
    "        soup = BeautifulSoup(page_source, \"html.parser\")\n",
    "        \n",
    "        # 1. EXTRAER TÍTULO usando los selectores que identificaste\n",
    "        titulo = None\n",
    "        title_selectors = [\n",
    "            \"h1.sc-iHrGRV.gplQEj\",  # Selector específico que encontraste\n",
    "            \"h1.sc-iHrGRV\",         # Versión más general\n",
    "            \"h1[class*='sc-iHrGRV']\", # Con wildcards\n",
    "            \"h1\",                    # Fallback\n",
    "            \"[data-testid='job-title']\"\n",
    "        ]\n",
    "        \n",
    "        for selector in title_selectors:\n",
    "            try:\n",
    "                title_element = soup.select_one(selector)\n",
    "                if title_element and title_element.get_text(strip=True):\n",
    "                    titulo = title_element.get_text(strip=True)\n",
    "                    print(f\"   📝 Título encontrado: {titulo[:50]}...\")\n",
    "                    break\n",
    "            except:\n",
    "                continue\n",
    "\n",
    "        return {\n",
    "            \"Titulo\": titulo\n",
    "            }\n",
    "    \n",
    "    except Exception as e:\n",
    "        print(f\"   ❌ Error procesando: {str(e)}\")\n",
    "        return {\n",
    "            \"Titulo\": f\"Error: {str(e)}\"\n",
    "        }"
   ]
  },
  {
   "cell_type": "code",
   "execution_count": 57,
   "id": "ef54964c",
   "metadata": {},
   "outputs": [
    {
     "name": "stdout",
     "output_type": "stream",
     "text": [
      "🚀 Iniciando extracción de detalles...\n",
      "[1/105] Procesando: backend-java-sector-bancario-experis-peru-1117965923.html\n",
      "[2/105] Procesando: analista-senior-de-automatizaciones-e-inteligencia-artificial-hibrido-cibergestion-peru-1117964801.html\n",
      "[3/105] Procesando: programador-1117960615.html\n",
      "[4/105] Procesando: desarrollador-fullstack-java-js-remoto-protiviti-peru-1117966558.html\n",
      "[5/105] Procesando: analista-de-programacion-rpg-izipay-1117080379.html\n",
      "[6/105] Procesando: programador-ologgi-s.a.c-1117973857.html\n",
      "[7/105] Procesando: analista-programador-postgre-oracle-hibrido-green-solutions-1117962598.html\n",
      "[8/105] Procesando: desarrollador-backend-inetum-peru-1117968206.html\n",
      "[9/105] Procesando: programador-web-y-movil-manpowergroup-peru-1117958854.html\n",
      "[10/105] Procesando: analista-programador-java-1117972678.html\n",
      "  ✅ Progreso: 10/105 | Exitosas: 10\n",
      "[11/105] Procesando: desarrollador-python-odoo-ibr-peru-s.a.-1117961539.html\n",
      "[12/105] Procesando: desarrollador-backend-javascript-senior-remoto-csti-corp-1117970346.html\n",
      "[13/105] Procesando: soporte-jr-de-aplicaciones-linux-plsql-hitss-peru-1117963093.html\n",
      "[14/105] Procesando: analista-programador-clinica-vesalio-s.a.-1117966201.html\n",
      "[15/105] Procesando: programador-bms-indra-peru-1117973221.html\n",
      "[16/105] Procesando: desarrollador-java-senior-azure-temporal-indra-peru-1117978869.html\n",
      "[17/105] Procesando: desarrollador-backend-javascript-senior-csti-corp-1117961392.html\n",
      "[18/105] Procesando: analista-programador-de-ti-seaboard-overseas-peru-s.a.-1117970924.html\n",
      "[19/105] Procesando: programador-rpa-rocketbot-uipath-valtx-1117968630.html\n",
      "[20/105] Procesando: analista-programador-1117964091.html\n",
      "  ✅ Progreso: 20/105 | Exitosas: 20\n",
      "[21/105] Procesando: analista-programador-vb6-real-systems-s-a-1117886662.html\n",
      "[22/105] Procesando: desarrollador-fullstack-1117976482.html\n",
      "[23/105] Procesando: analista-programador-frontend-angular-canvia-1117960612.html\n",
      "[24/105] Procesando: consultor-sap-btp-proyecto-de-4-meses-remoto-protiviti-peru-1117961136.html\n",
      "[25/105] Procesando: analista-programador-full-stack-universidad-de-ingenieria-y-tecnologia-utec-1117961694.html\n",
      "[26/105] Procesando: desarrollador-de-sistemas-intelitech-peru-s.a.c.-1117964390.html\n",
      "[27/105] Procesando: mid-node-aws-engineer-encora-1117969139.html\n",
      "[28/105] Procesando: desarrollador-mobile-react-native-fractal-soluciones-it-1117974334.html\n",
      "[29/105] Procesando: desarrollador-full-stack-grupo-red-salud-1117971064.html\n",
      "[30/105] Procesando: desarrollador-frontend-senior-canvia-1117964197.html\n",
      "  ✅ Progreso: 30/105 | Exitosas: 30\n",
      "[31/105] Procesando: trainee-programador-jr-building-software-1117968407.html\n",
      "[32/105] Procesando: desarrollador-fullsatck-enfoque-en-frontend-fractal-soluciones-it-1117962666.html\n",
      "[33/105] Procesando: .net-developer-junior-inetum-peru-1117970031.html\n",
      "[34/105] Procesando: analista-de-programacion-caja-metropolitana-de-lima-1117975863.html\n",
      "[35/105] Procesando: analista-programador-.net-|-visual-basic-entelgy-1117975151.html\n",
      "[36/105] Procesando: desarrollador-genexus-software-enterprise-services-s.a.c.-1117965079.html\n",
      "[37/105] Procesando: analista-programador-senior-adex-1117972522.html\n",
      "[38/105] Procesando: tech-lead-lider-tecnico-frontend-react-nextjs-zutun.-1117959935.html\n",
      "[39/105] Procesando: desarrollador-full-stack-node.js-c-java-angularjs-ibr-peru-s.a.-1117967655.html\n",
      "[40/105] Procesando: desarrollador-backend-jr-prestamype-1117957891.html\n",
      "  ✅ Progreso: 40/105 | Exitosas: 40\n",
      "[41/105] Procesando: analista-programador-java-cloud-senior-green-solutions-1117971404.html\n",
      "[42/105] Procesando: desarrollador-de-integracion-osb-stefanini-peru-s.a-1117978939.html\n",
      "[43/105] Procesando: analista-de-programador-derrama-magisterial-1117974631.html\n",
      "[44/105] Procesando: desarrollador-full-stack-senior--ecommerce-magento-perfumerias-unidas-1117965886.html\n",
      "[45/105] Procesando: analista-programador-postgre-oracle-hibrido-green-solutions-1117970409.html\n",
      "[46/105] Procesando: programador-python-junior-csti-corp-1117970174.html\n",
      "[47/105] Procesando: desarrollador-full-stack-.net-ibr-peru-s.a.-1117964229.html\n",
      "[48/105] Procesando: analista-programador-sector-educativo-inlearning-escuelas-de-educacion-superior-1117973244.html\n",
      "[49/105] Procesando: desarrollador-fullstack-lenguaje-go-y-react-native-software-enterprise-services-s.a.c.-1117949402.html\n",
      "[50/105] Procesando: analista-programador-universidad-de-san-martin-de-porres-1117963157.html\n",
      "  ✅ Progreso: 50/105 | Exitosas: 50\n",
      "[51/105] Procesando: programador-en-oracle-developer-clbs-1117972036.html\n",
      "[52/105] Procesando: desarrollador-full-stack-java-aws-react-native-software-enterprise-services-s.a.c.-1117974521.html\n",
      "[53/105] Procesando: auditor-en-tasador-de-joyas-caja-metropolitana-de-lima-1117977845.html\n",
      "[54/105] Procesando: desarrollador-backend-nodejs-aws-indra-peru-1117974651.html\n",
      "[55/105] Procesando: desarrollador-web-marketing-sector-laboratorio-experis-peru-1117959454.html\n",
      "[56/105] Procesando: desarrollador-backend-java-inetum-peru-1117961759.html\n",
      "[57/105] Procesando: frontend-developer-react-js-ts-zutun.-1117969630.html\n",
      "[58/105] Procesando: analista-desarrollador-java-manpowergroup-peru-1117974662.html\n",
      "[59/105] Procesando: analista-programador-java-gs-gestion-y-sistemas-sac-1117958329.html\n",
      "[60/105] Procesando: analista-programador-java-valtx-1117962716.html\n",
      "  ✅ Progreso: 60/105 | Exitosas: 60\n",
      "[61/105] Procesando: analista-desarrollador-full-stack-gruporpp-s.a.c.-1117968336.html\n",
      "[62/105] Procesando: programador-bms-indra-peru-1117973363.html\n",
      "[63/105] Procesando: desarrollador-frontend-senior-remoto-csti-corp-1117962091.html\n",
      "[64/105] Procesando: software-engineer-senior-grupo-gloria-1117976663.html\n",
      "[65/105] Procesando: fullstack-developer-senior-.net-angular-zutun.-1117971550.html\n",
      "[66/105] Procesando: frontend-developer-angular-experis-peru-1117962336.html\n",
      "[67/105] Procesando: programador-de-inteligencia-artificial-growth-digital-lab-1117968752.html\n",
      "[68/105] Procesando: programador-de-sistemas-impresiones-plasticas-sac-1117952999.html\n",
      "[69/105] Procesando: analista-programador-java-entelgy-1117975157.html\n",
      "[70/105] Procesando: desarrollador-frontend-senior-fractal-soluciones-it-1117974205.html\n",
      "  ✅ Progreso: 70/105 | Exitosas: 70\n",
      "[71/105] Procesando: programador-abap-preencial-experis-peru-1117966739.html\n",
      "[72/105] Procesando: analista-programador-php-canvia-1117976775.html\n",
      "[73/105] Procesando: desarrollador-frontend-react-por-proyecto-indra-peru-1117965904.html\n",
      "[74/105] Procesando: desarrollador-backend-indra-peru-1117968754.html\n",
      "[75/105] Procesando: analista-programador-sede-ate-bumeran-selecta-1117969140.html\n",
      "[76/105] Procesando: practicante-de-digitalizacion-repsol-1117960947.html\n",
      "[77/105] Procesando: analista-programador-fullstack-isp-consulting-1117960954.html\n",
      "[78/105] Procesando: analista-programador-java-microservicios-canvia-1117960644.html\n",
      "[79/105] Procesando: programador-java-senior-semipresencial-manpowergroup-peru-1117958222.html\n",
      "[80/105] Procesando: desarrollador-backend-manpowergroup-peru-1117964291.html\n",
      "  ✅ Progreso: 80/105 | Exitosas: 80\n",
      "[81/105] Procesando: analista-programador-.net-gs-gestion-y-sistemas-sac-1117958392.html\n",
      "[82/105] Procesando: desarrollador-full-stack-igts-sac-1117965145.html\n",
      "[83/105] Procesando: tecnico-desarrollador-de-sistemas-1117973188.html\n",
      "[84/105] Procesando: desarrollador-.net-senior-fractal-soluciones-it-1117973977.html\n",
      "[85/105] Procesando: analista-desarrollador-java-sector-administracion-de-fondos-colectivos-experis-peru-1117978810.html\n",
      "[86/105] Procesando: programador-bms-automizador-indra-peru-1117973373.html\n",
      "[87/105] Procesando: programador-full-stack-java-react-valtx-1117977502.html\n",
      "[88/105] Procesando: backend-developer-senior-culqi-talent2win-1117963319.html\n",
      "[89/105] Procesando: programador-full-stack-c-exp-en-ia-valtx-1117973381.html\n",
      "[90/105] Procesando: practicante-profesional-desarrollador-pl-sql-indra-peru-1117941356.html\n",
      "  ✅ Progreso: 90/105 | Exitosas: 90\n",
      "[91/105] Procesando: programador-bms-indra-peru-1117974062.html\n",
      "[92/105] Procesando: programador-bms-o-scada-indra-peru-1117975855.html\n",
      "[93/105] Procesando: desarrollador-full-stack-surco-presencial-well-consulting-services-1117978454.html\n",
      "[94/105] Procesando: soporte-jr-y-sr-de-plataforma-bmc-helix-remedy-hitss-peru-1117968539.html\n"
     ]
    },
    {
     "name": "stdout",
     "output_type": "stream",
     "text": [
      "[95/105] Procesando: analista-programador-java-oracle-presencial-hitss-peru-1117963095.html\n",
      "[96/105] Procesando: desarrollador-fullstack-semiseniorjava-angular-csti-corp-1117961713.html\n",
      "[97/105] Procesando: desarrollador-backend-nodejs-senior-zoluxiones-sac-1117977115.html\n",
      "[98/105] Procesando: desarrollador-.net-php-indra-peru-1117961552.html\n",
      "[99/105] Procesando: practicante-profesional-programacion-plsql-indra-peru-1117960022.html\n",
      "[100/105] Procesando: desarrolladora-mineria-lurin-zamine-peru-1117976772.html\n",
      "  ✅ Progreso: 100/105 | Exitosas: 100\n",
      "[101/105] Procesando: analista-programador-java-remoto-planilla-completa-green-solutions-1117971817.html\n",
      "[102/105] Procesando: desarrollador-fullstack-java-hitss-peru-1117967606.html\n",
      "[103/105] Procesando: programador-frontend-senior-sonda-del-peru-s.a.-1117973000.html\n",
      "[104/105] Procesando: analista-de-imagenes-hospitalarias-sistemas-grupo-san-pablo-1117977289.html\n",
      "[105/105] Procesando: desarrollador-backend-.net-indra-peru-1117971369.html\n",
      "✅ Procesamiento completado. Total: 105 ofertas\n"
     ]
    }
   ],
   "source": [
    "#CELDA 8: Procesar todas las ofertas (esta celda tomará tiempo)\n",
    "print(\"🚀 Iniciando extracción de detalles...\")\n",
    "jobs = []\n",
    "\n",
    "for idx, job_url in enumerate(job_links, start=1):\n",
    "    print(f\"[{idx}/{len(job_links)}] Procesando: {job_url.split('/')[-1]}\")\n",
    "    \n",
    "    job_details = extract_job_details(driver, job_url)\n",
    "    jobs.append(job_details)\n",
    "    \n",
    "    # Mostrar progreso cada 10 ofertas\n",
    "    if idx % 10 == 0:\n",
    "        successful = len([j for j in jobs if j['Titulo'] and not j['Titulo'].startswith('Error')])\n",
    "        print(f\"  ✅ Progreso: {idx}/{len(job_links)} | Exitosas: {successful}\")\n",
    "    \n",
    "    # Pausa entre requests\n",
    "    time.sleep(1)\n",
    "\n",
    "print(f\"✅ Procesamiento completado. Total: {len(jobs)} ofertas\")"
   ]
  },
  {
   "cell_type": "code",
   "execution_count": 58,
   "id": "c017730a",
   "metadata": {},
   "outputs": [],
   "source": [
    "# Crear DataFrame\n",
    "df2 = pd.DataFrame(jobs)\n",
    "df2.to_csv(\"bumeran_jobs_ejemplo.csv\", index=False, encoding=\"utf-8-sig\")"
   ]
  }
 ],
 "metadata": {
  "kernelspec": {
   "display_name": "Python 3 (ipykernel)",
   "language": "python",
   "name": "python3"
  },
  "language_info": {
   "codemirror_mode": {
    "name": "ipython",
    "version": 3
   },
   "file_extension": ".py",
   "mimetype": "text/x-python",
   "name": "python",
   "nbconvert_exporter": "python",
   "pygments_lexer": "ipython3",
   "version": "3.11.5"
  }
 },
 "nbformat": 4,
 "nbformat_minor": 5
}
